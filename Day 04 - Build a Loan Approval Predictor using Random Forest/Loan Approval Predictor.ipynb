{
 "cells": [
  {
   "cell_type": "code",
   "execution_count": 1,
   "id": "111ba068-f398-42ce-9f28-deb7f215260b",
   "metadata": {},
   "outputs": [],
   "source": [
    "import pandas as pd\n",
    "import numpy as np\n",
    "from sklearn.model_selection import train_test_split, GridSearchCV\n",
    "from sklearn.preprocessing import StandardScaler, OneHotEncoder\n",
    "from sklearn.ensemble import RandomForestClassifier\n",
    "from sklearn.pipeline import Pipeline\n",
    "from sklearn.compose import ColumnTransformer\n",
    "from sklearn.metrics import accuracy_score, precision_score, recall_score, f1_score, roc_auc_score, confusion_matrix\n",
    "import seaborn as sns\n",
    "import matplotlib.pyplot as plt"
   ]
  },
  {
   "cell_type": "code",
   "execution_count": 2,
   "id": "67c9f7f3-5cc7-49fb-b832-88d11ba6287c",
   "metadata": {},
   "outputs": [
    {
     "name": "stdout",
     "output_type": "stream",
     "text": [
      "Dataset loaded successfully!\n"
     ]
    }
   ],
   "source": [
    "# Load dataset\n",
    "df = pd.read_csv(\"loan_data.csv\")  # Replace with actual dataset path\n",
    "print(\"Dataset loaded successfully!\")"
   ]
  },
  {
   "cell_type": "code",
   "execution_count": 3,
   "id": "7dc3dd3e-2f28-49d6-90e2-e18feec5847f",
   "metadata": {},
   "outputs": [],
   "source": [
    "df.columns = df.columns.str.strip()  # Remove whitespace from column names\n",
    "df = df.map(lambda x: x.strip() if isinstance(x, str) else x)"
   ]
  },
  {
   "cell_type": "code",
   "execution_count": 4,
   "id": "2f59cb0d-1aad-4ee1-a558-565c4c4ed346",
   "metadata": {},
   "outputs": [
    {
     "name": "stdout",
     "output_type": "stream",
     "text": [
      "Missing values before cleaning:\n",
      "person_age                        0\n",
      "person_gender                     0\n",
      "person_education                  0\n",
      "person_income                     0\n",
      "person_emp_exp                    0\n",
      "person_home_ownership             0\n",
      "loan_amnt                         0\n",
      "loan_intent                       0\n",
      "loan_int_rate                     0\n",
      "loan_percent_income               0\n",
      "cb_person_cred_hist_length        0\n",
      "credit_score                      0\n",
      "previous_loan_defaults_on_file    0\n",
      "loan_status                       0\n",
      "dtype: int64\n"
     ]
    }
   ],
   "source": [
    "print(f\"Missing values before cleaning:\\n{df.isna().sum()}\")"
   ]
  },
  {
   "cell_type": "code",
   "execution_count": 5,
   "id": "90f5c1cb-b3ba-40ac-968f-06ace20a927e",
   "metadata": {},
   "outputs": [
    {
     "name": "stdout",
     "output_type": "stream",
     "text": [
      "Unique values in 'loan_status' before mapping: [1 0]\n"
     ]
    }
   ],
   "source": [
    "# Ensure 'loan_status' is binary (0/1)\n",
    "print(\"Unique values in 'loan_status' before mapping:\", df['loan_status'].unique())"
   ]
  },
  {
   "cell_type": "code",
   "execution_count": 6,
   "id": "959d97b5-5d79-4f68-b3df-2adcc6e4171f",
   "metadata": {},
   "outputs": [],
   "source": [
    "# Convert target variable to binary (if needed)\n",
    "if df['loan_status'].dtype == 'object':\n",
    "    df['loan_status'] = df['loan_status'].map({'Y': 1, 'N': 0})"
   ]
  },
  {
   "cell_type": "code",
   "execution_count": 7,
   "id": "f5fe3b08-e256-43bf-a4df-4f47f1e12a82",
   "metadata": {},
   "outputs": [],
   "source": [
    "# Ensure 'loan_status' is valid\n",
    "if df['loan_status'].isna().sum() > 0:\n",
    "    raise ValueError(\"Target variable 'loan_status' contains NaN values after mapping!\")"
   ]
  },
  {
   "cell_type": "code",
   "execution_count": 8,
   "id": "5e409301-b157-4ad1-9844-9a8bc81bc34a",
   "metadata": {},
   "outputs": [],
   "source": [
    "# Handle missing values\n",
    "df.fillna(df.median(numeric_only=True), inplace=True)"
   ]
  },
  {
   "cell_type": "code",
   "execution_count": 9,
   "id": "610504d0-0c21-4afa-bd83-dce87e714da6",
   "metadata": {},
   "outputs": [],
   "source": [
    "if not df.mode().empty:\n",
    "    df.fillna(df.mode().iloc[0], inplace=True)"
   ]
  },
  {
   "cell_type": "code",
   "execution_count": 10,
   "id": "563460f2-f0d2-4c6d-955e-a7f669a117fa",
   "metadata": {},
   "outputs": [],
   "source": [
    "# Split features and target\n",
    "X = df.drop(columns=['loan_status'])\n",
    "y = df['loan_status']"
   ]
  },
  {
   "cell_type": "code",
   "execution_count": 11,
   "id": "b12e2f8b-21e5-4d9f-93fb-9f086556e640",
   "metadata": {},
   "outputs": [
    {
     "name": "stdout",
     "output_type": "stream",
     "text": [
      "Dataset shape before splitting: X=(45000, 13), y=(45000,)\n"
     ]
    }
   ],
   "source": [
    "print(f\"Dataset shape before splitting: X={X.shape}, y={y.shape}\")"
   ]
  },
  {
   "cell_type": "code",
   "execution_count": 12,
   "id": "7bbef453-4fa8-41b1-9858-69f5dbc3037b",
   "metadata": {},
   "outputs": [],
   "source": [
    "# Ensure y is not empty\n",
    "if y.isna().sum() > 0:\n",
    "    raise ValueError(\"Target variable 'loan_status' contains NaN after cleaning!\")\n",
    "\n",
    "if X.empty or y.empty:\n",
    "    raise ValueError(\"Dataset is empty after preprocessing! Check data loading and cleaning steps.\")"
   ]
  },
  {
   "cell_type": "code",
   "execution_count": 13,
   "id": "4a8c9676-1228-48ff-8849-3885df60e8d2",
   "metadata": {},
   "outputs": [],
   "source": [
    "# Identify categorical and numerical features\n",
    "categorical_features = X.select_dtypes(include=['object']).columns\n",
    "numerical_features = X.select_dtypes(exclude=['object']).columns"
   ]
  },
  {
   "cell_type": "code",
   "execution_count": 14,
   "id": "cc9f4c0a-a0ff-4389-bccb-cfda7f21412a",
   "metadata": {},
   "outputs": [],
   "source": [
    "# Preprocessing pipelines\n",
    "num_pipeline = StandardScaler()\n",
    "cat_pipeline = OneHotEncoder(handle_unknown='ignore')\n",
    "\n",
    "preprocessor = ColumnTransformer([\n",
    "    ('num', num_pipeline, numerical_features),\n",
    "    ('cat', cat_pipeline, categorical_features)\n",
    "])"
   ]
  },
  {
   "cell_type": "code",
   "execution_count": 15,
   "id": "a923aad6-aad4-41b4-801a-d4aaa4424e7c",
   "metadata": {},
   "outputs": [],
   "source": [
    "# Define model pipeline\n",
    "model = Pipeline([\n",
    "    ('preprocessor', preprocessor),\n",
    "    ('classifier', RandomForestClassifier(random_state=42))\n",
    "])"
   ]
  },
  {
   "cell_type": "code",
   "execution_count": 16,
   "id": "22812aff-6150-49d1-b77e-eb69de0f1d2a",
   "metadata": {},
   "outputs": [],
   "source": [
    "# Hyperparameter tuning\n",
    "param_grid = {\n",
    "    'classifier__n_estimators': [100, 200, 300],\n",
    "    'classifier__max_depth': [None, 10, 20],\n",
    "    'classifier__min_samples_split': [2, 5, 10]\n",
    "}\n",
    "\n",
    "grid_search = GridSearchCV(model, param_grid, cv=5, scoring='accuracy', n_jobs=-1)"
   ]
  },
  {
   "cell_type": "code",
   "execution_count": 17,
   "id": "0cb1184a-bfb2-4488-9740-2a0e7bb3dde0",
   "metadata": {},
   "outputs": [],
   "source": [
    "# Split data\n",
    "X_train, X_test, y_train, y_test = train_test_split(X, y, test_size=0.2, random_state=42, stratify=y)"
   ]
  },
  {
   "cell_type": "code",
   "execution_count": 18,
   "id": "c0ea2bbf-d1dd-45dd-a17c-cdfa84459ca5",
   "metadata": {},
   "outputs": [],
   "source": [
    "# Train model\n",
    "grid_search.fit(X_train, y_train)\n",
    "best_model = grid_search.best_estimator_"
   ]
  },
  {
   "cell_type": "code",
   "execution_count": 19,
   "id": "f815f77b-6497-459a-a293-30373c4f409e",
   "metadata": {},
   "outputs": [],
   "source": [
    "# Make predictions\n",
    "y_pred = best_model.predict(X_test)\n",
    "y_pred_proba = best_model.predict_proba(X_test)[:, 1]"
   ]
  },
  {
   "cell_type": "code",
   "execution_count": 20,
   "id": "4da7bc62-40b1-4dd9-af70-619b58eb9e87",
   "metadata": {},
   "outputs": [],
   "source": [
    "# Evaluate model\n",
    "accuracy = accuracy_score(y_test, y_pred)\n",
    "precision = precision_score(y_test, y_pred)\n",
    "recall = recall_score(y_test, y_pred)\n",
    "f1 = f1_score(y_test, y_pred)\n",
    "roc_auc = roc_auc_score(y_test, y_pred_proba)\n",
    "conf_matrix = confusion_matrix(y_test, y_pred)"
   ]
  },
  {
   "cell_type": "code",
   "execution_count": 21,
   "id": "3d9c80e8-66ef-4e3a-bb2b-6e8b928b82ea",
   "metadata": {},
   "outputs": [
    {
     "name": "stdout",
     "output_type": "stream",
     "text": [
      "Best Parameters: {'classifier__max_depth': 20, 'classifier__min_samples_split': 2, 'classifier__n_estimators': 300}\n",
      "Accuracy: 92.99%\n",
      "Precision: 90.01%\n",
      "Recall: 77.00%\n",
      "F1-score: 83.00%\n",
      "ROC AUC: 97.51%\n"
     ]
    }
   ],
   "source": [
    "# Print results\n",
    "print(f'Best Parameters: {grid_search.best_params_}')\n",
    "print(f'Accuracy: {accuracy * 100:.2f}%')\n",
    "print(f'Precision: {precision * 100:.2f}%')\n",
    "print(f'Recall: {recall * 100:.2f}%')\n",
    "print(f'F1-score: {f1 * 100:.2f}%')\n",
    "print(f'ROC AUC: {roc_auc * 100:.2f}%')"
   ]
  },
  {
   "cell_type": "code",
   "execution_count": 22,
   "id": "cdb16bb5-77b3-4ccf-9d42-40d7f324674d",
   "metadata": {},
   "outputs": [
    {
     "data": {
      "image/png": "[encoded data removed]",
      "text/plain": [
       "<Figure size 600x400 with 2 Axes>"
      ]
     },
     "metadata": {},
     "output_type": "display_data"
    }
   ],
   "source": [
    "# Plot confusion matrix\n",
    "plt.figure(figsize=(6, 4))\n",
    "sns.heatmap(conf_matrix, annot=True, fmt='d', cmap='Blues', xticklabels=['No Loan', 'Loan'], yticklabels=['No Loan', 'Loan'])\n",
    "plt.xlabel('Predicted')\n",
    "plt.ylabel('Actual')\n",
    "plt.title('Confusion Matrix')\n",
    "plt.show()"
   ]
  }
 ],
 "metadata": {
  "kernelspec": {
   "display_name": "Python 3 (ipykernel)",
   "language": "python",
   "name": "python3"
  },
  "language_info": {
   "codemirror_mode": {
    "name": "ipython",
    "version": 3
   },
   "file_extension": ".py",
   "mimetype": "text/x-python",
   "name": "python",
   "nbconvert_exporter": "python",
   "pygments_lexer": "ipython3",
   "version": "3.12.7"
  }
 },
 "nbformat": 4,
 "nbformat_minor": 5
}
