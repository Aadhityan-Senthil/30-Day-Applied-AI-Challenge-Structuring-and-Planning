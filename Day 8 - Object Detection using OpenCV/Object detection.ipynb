{
 "cells": [
  {
   "cell_type": "code",
   "execution_count": 6,
   "id": "25317919-6c76-4ab5-841b-f6547e621366",
   "metadata": {},
   "outputs": [],
   "source": [
    "import cv2\n",
    "import numpy as np\n",
    "from ultralytics import YOLO"
   ]
  },
  {
   "cell_type": "code",
   "execution_count": 7,
   "id": "ed755ee5-cea3-4ed8-8480-812fd98d94c3",
   "metadata": {},
   "outputs": [],
   "source": [
    "# Load Haar Cascade for face detection\n",
    "haar_cascade_path = \"haarcascade_frontalface_default.xml\"\n",
    "face_cascade = cv2.CascadeClassifier(haar_cascade_path)"
   ]
  },
  {
   "cell_type": "code",
   "execution_count": 9,
   "id": "47c1ea19-d241-4db3-823f-9e34955ef18c",
   "metadata": {},
   "outputs": [],
   "source": [
    "# Load YOLOv8 model (Pretrained on COCO dataset)\n",
    "yolo_model = YOLO(\"yolov8n.pt\")"
   ]
  },
  {
   "cell_type": "code",
   "execution_count": 10,
   "id": "0b23451d-cc08-49b1-97ac-68595829db35",
   "metadata": {},
   "outputs": [],
   "source": [
    "# Start webcam capture\n",
    "cap = cv2.VideoCapture(0)  # 0 for default webcam"
   ]
  },
  {
   "cell_type": "code",
   "execution_count": 11,
   "id": "0ebe7eaa-997b-45e9-8ff4-602440711692",
   "metadata": {},
   "outputs": [],
   "source": [
    "if not cap.isOpened():\n",
    "    print(\"Error: Unable to access the webcam!\")\n",
    "    exit()\n",
    "\n",
    "# Choose the detection method (Haar Cascade or YOLOv8)\n",
    "use_haar = True  # Change to False if you want YOLOv8 "
   ]
  },
  {
   "cell_type": "code",
   "execution_count": null,
   "id": "57748c32-1398-42ab-b05c-469c8127502f",
   "metadata": {},
   "outputs": [],
   "source": [
    "while True:\n",
    "    ret, frame = cap.read()\n",
    "    if not ret:\n",
    "        print(\"Error: Could not read frame!\")\n",
    "        break\n",
    "\n",
    "    if use_haar:\n",
    "        # Convert frame to grayscale (Haar works better in grayscale)\n",
    "        gray = cv2.cvtColor(frame, cv2.COLOR_BGR2GRAY)\n",
    "\n",
    "        # Detect faces\n",
    "        faces = face_cascade.detectMultiScale(gray, scaleFactor=1.1, minNeighbors=5, minSize=(30, 30))\n",
    "\n",
    "        # Draw bounding boxes around detected faces\n",
    "        for (x, y, w, h) in faces:\n",
    "            cv2.rectangle(frame, (x, y), (x + w, y + h), (255, 0, 0), 2)\n",
    "\n",
    "        cv2.putText(frame, \"Haar Cascade: Face Detection\", (10, 30), cv2.FONT_HERSHEY_SIMPLEX, 0.7, (255, 255, 255), 2)\n",
    "    \n",
    "    else:\n",
    "        # Perform YOLOv8 object detection\n",
    "        results = yolo_model(frame)\n",
    "\n",
    "        # Get annotated frame\n",
    "        frame = results[0].plot()\n",
    "\n",
    "        cv2.putText(frame, \"YOLOv8: Object Detection\", (10, 30), cv2.FONT_HERSHEY_SIMPLEX, 0.7, (0, 255, 0), 2)\n",
    "\n",
    "    # Display the frame\n",
    "    cv2.imshow(\"Real-Time Object Detection\", frame)\n",
    "\n",
    "    # Press 'q' to exit, 'h' for Haar, 'y' for YOLO\n",
    "    key = cv2.waitKey(1) & 0xFF\n",
    "    if key == ord(\"q\"):\n",
    "        break\n",
    "    elif key == ord(\"h\"):\n",
    "        use_haar = True\n",
    "    elif key == ord(\"y\"):\n",
    "        use_haar = False"
   ]
  },
  {
   "cell_type": "code",
   "execution_count": null,
   "id": "a1c9e8a9-bc04-4c42-bdb6-f91e2bd12bf6",
   "metadata": {},
   "outputs": [],
   "source": [
    "# Release resources\n",
    "cap.release()\n",
    "cv2.destroyAllWindows()"
   ]
  },
  {
   "cell_type": "code",
   "execution_count": null,
   "id": "83980a6e-3872-458b-a737-56923d35f687",
   "metadata": {},
   "outputs": [],
   "source": []
  }
 ],
 "metadata": {
  "kernelspec": {
   "display_name": "Python 3 (ipykernel)",
   "language": "python",
   "name": "python3"
  },
  "language_info": {
   "codemirror_mode": {
    "name": "ipython",
    "version": 3
   },
   "file_extension": ".py",
   "mimetype": "text/x-python",
   "name": "python",
   "nbconvert_exporter": "python",
   "pygments_lexer": "ipython3",
   "version": "3.12.7"
  }
 },
 "nbformat": 4,
 "nbformat_minor": 5
}
